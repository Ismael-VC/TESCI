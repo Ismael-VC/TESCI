{
 "metadata": {
  "name": ""
 },
 "nbformat": 3,
 "nbformat_minor": 0,
 "worksheets": [
  {
   "cells": [
    {
     "cell_type": "markdown",
     "metadata": {},
     "source": [
      "# Probabilidad y Estadistica con Python\n",
      "\n",
      "## T\u00e9cnicas de conteo:\n",
      "\n",
      "Las t\u00e9cnicas de conteo son aquellas que son usadas para enumerar eventos dic\u00edciles de cuantificar.\n",
      "\n",
      "* combinaciones\n",
      "\n",
      "* permutaciones\n",
      "\n",
      "* diagramas de \u00e1rbol\n",
      "\n",
      "### Principio fundamental de conteo\n",
      "\n",
      "Si una operaci\u00f3n puede realizarse en $n_1$ formas y si por cada una de \u00e9stas, una segunda opercai\u00f3n puede llevarse a cabo en $n_2$ formas, entonces las dos operaciones pueden realizarse jutas en $n_1 n_2$ formas.\n",
      "\n",
      "### Conceptos\n",
      "\n",
      "* Definimos una permutaci\u00f3n como un reacomode de objetos.\n",
      "\n",
      "* Es todo arreglo de elementos en donde nos interesa el lugar o posici\u00f3n que ocupa cada uno de los elementos que constituyen dicho arreglo.\n",
      "\n",
      "* El orden o la forma en que se asignan las funciones s\u00ed importa.\n",
      "\n",
      "# Factorial\n",
      "\n",
      "La funci\u00f3n factorial se denota como $n!$, se utiliza en las permutaciones y combinaciones.\n",
      "\n",
      "El **factorial** de un entero positivo $n$, el **factorial de $n$** o **$n$ factorial** se define en principio como el producto de todos los n\u00fameros enteros positivos desde 1 (es decir, los n\u00fameros naturales) hasta n.\n",
      "\n",
      "La funci\u00f3n factorial es formalmente definida mediante el producto:\n",
      "\n",
      "$n! = 1 \\times 2 \\times 3 \\times ... \\times n$\n",
      "\n",
      "La multiplicaci\u00f3n anterior se puede simbolizar tambi\u00e9n utilizando el operador productorio:\n",
      "\n",
      "$n!=\\prod_{k=1}^n k \\!$\n",
      "\n",
      "#### Ejemplo:\n",
      "\n",
      "$7! = 1 \\times 2 \\times 3 \\times 4 \\times 5 \\times 6 \\times 7 = 5040$"
     ]
    },
    {
     "cell_type": "code",
     "collapsed": false,
     "input": [
      "1*2*3*4*5*6*7"
     ],
     "language": "python",
     "metadata": {},
     "outputs": [
      {
       "metadata": {},
       "output_type": "pyout",
       "prompt_number": 1,
       "text": [
        "5040"
       ]
      }
     ],
     "prompt_number": 1
    },
    {
     "cell_type": "code",
     "collapsed": false,
     "input": [
      "def producto(secuencia):\n",
      "    prod = 1\n",
      "    for n in secuencia:\n",
      "        prod *= n\n",
      "    return prod\n",
      "\n",
      "\n",
      "def factorial_prod(n):\n",
      "    return producto(range(1, n+1))\n",
      "\n",
      "\n",
      "factorial_prod(7)"
     ],
     "language": "python",
     "metadata": {},
     "outputs": [
      {
       "metadata": {},
       "output_type": "pyout",
       "prompt_number": 2,
       "text": [
        "5040"
       ]
      }
     ],
     "prompt_number": 2
    },
    {
     "cell_type": "markdown",
     "metadata": {},
     "source": [
      "Tambi\u00e9n es posible definirlo mediante la relaci\u00f3n de recurrencia:\n",
      "\n",
      "$$\n",
      "n! = \\begin{cases}\n",
      "1              & \\text{si } n = 0, \\\\\n",
      "(n-1)!\\times n & \\text{si } n > 0\n",
      "\\end{cases}$$\n"
     ]
    },
    {
     "cell_type": "code",
     "collapsed": false,
     "input": [
      "def factorial_rec(n):\n",
      "    if n == 0:\n",
      "        return 1\n",
      "    elif n > 0:\n",
      "        return factorial_rec(n-1) * n\n",
      "    \n",
      "\n",
      "factorial_rec(7)"
     ],
     "language": "python",
     "metadata": {},
     "outputs": [
      {
       "metadata": {},
       "output_type": "pyout",
       "prompt_number": 3,
       "text": [
        "5040"
       ]
      }
     ],
     "prompt_number": 3
    },
    {
     "cell_type": "markdown",
     "metadata": {},
     "source": [
      "# Permutaciones\n",
      "\n",
      "Una permutaci\u00f3n es la variaci\u00f3n del orden o de la disposici\u00f3n de los elementos de un conjunto.\n",
      "\n",
      "Por ejemplo, en el conjunto $\\{1, 2, 3\\}$, cada ordenaci\u00f3n posible de sus elementos, sin repetirlos, es una permutaci\u00f3n. Existe un total de 6 permutaciones para estos elementos: $\\{(1, 2, 3), (1, 3, 2), (2, 1, 3), (2, 3, 1), (3, 1, 2), (3, 2, 1) \\}$"
     ]
    },
    {
     "cell_type": "code",
     "collapsed": false,
     "input": [
      "import itertools as it\n",
      "\n",
      "\n",
      "conjunto = [1, 2, 3]\n",
      "r = 3\n",
      "permutaciones = list(it.permutations(conjunto, r))\n",
      "\n",
      "def imprimir(secuencia):\n",
      "    for elemento in secuencia:\n",
      "        print(elemento)\n",
      "        \n",
      "        \n",
      "print('Total de permutaciones: %s\\n' % len(permutaciones))\n",
      "imprimir(permutaciones)"
     ],
     "language": "python",
     "metadata": {},
     "outputs": [
      {
       "output_type": "stream",
       "stream": "stdout",
       "text": [
        "Total de permutaciones: 6\n",
        "\n",
        "(1, 2, 3)\n",
        "(1, 3, 2)\n",
        "(2, 1, 3)\n",
        "(2, 3, 1)\n",
        "(3, 1, 2)\n",
        "(3, 2, 1)\n"
       ]
      }
     ],
     "prompt_number": 4
    },
    {
     "cell_type": "markdown",
     "metadata": {},
     "source": [
      "Cuando $n$ y $r$ son enteros positivos y $r\\leq n$ (de lo contrario no se puede realizar)\n",
      "\n",
      "$nPr = \\frac{n!}{(n-r)!} \\text{si } 0 \\leq r \\leq n$\n",
      "\n",
      "Donde:\n",
      "\n",
      "* $P$ es permutaci\u00f3n de.\n",
      "\n",
      "* $r$ es parte del conjunto de elementos.\n",
      "\n",
      "* $n$ es el total de los elementos del conjunto.\n",
      "\n",
      "Cuando $r$ es igual a $n$ (es decir, cuando se trata de permutar todos los $n$ objetos) la f\u00f3rmula se reduce a:\n",
      "\n",
      "$nPn = n!$\n",
      "\n",
      "Ya que $0! = 1$\n",
      "\n",
      "#### Ejemplo:\n",
      "\n",
      "\u00bfCuantas representaciones deiferenes ser\u00e1n posibles formar, si se desea que consten de Presidente, Secretario, Tesorero, Primer Vocal y Segundo Vocal?, s\u00ed esta representaci\u00f3n puede ser formada de entre 25 miembros del sindicato de una peque\u00f1a empresa.\n",
      "\n",
      "##### Por principio multiplicativo\n",
      "\n",
      "$$25\u00b724\u00b723\u00b722\u00b721= 6,375,600$$ \n",
      "\n",
      "maneras de formar una representaci\u00f3n de este sindicato que consiste de presidente, secretario, etc.\n",
      "\n",
      "\n",
      "##### Por formula:\n",
      "\n",
      "$n = 25$; $r=5$\n",
      "\n",
      "$25P5 = \\frac{25!}{(25-5)!} = \\frac{25!}{20!} = \\frac{(25\u00b724\u00b723\u00b722\u00b721\u00b7...\u00b71)}{(20\u00b719\u00b718\u00b7...\u00b71)} = 6,375, 600$"
     ]
    },
    {
     "cell_type": "code",
     "collapsed": false,
     "input": [
      "# Seleccionar implementaci\u00f3n de \"factorial\" a utilizar:\n",
      "#f = factorial_prod\n",
      "f = factorial_rec\n",
      "\n",
      "def nPr(n, r):\n",
      "    if 0 <= r <= n:\n",
      "        return f(n) / f(n-r)\n",
      "    else:\n",
      "        return 0\n",
      "\n",
      "\n",
      "nPr(25, 5)"
     ],
     "language": "python",
     "metadata": {},
     "outputs": [
      {
       "metadata": {},
       "output_type": "pyout",
       "prompt_number": 5,
       "text": [
        "6375600.0"
       ]
      }
     ],
     "prompt_number": 5
    },
    {
     "cell_type": "markdown",
     "metadata": {},
     "source": [
      "# Combinaciones\n",
      "\n",
      "Tenemos una colecci\u00f3n de $n$ objetos. Donde una combinaci\u00f3n de estos $n$ objetos, tomados $r$ a la vez, es cualquier selecci\u00f3n de $r$ objetos, donde el orden no cuenta. Es decir, una combinaci\u00f3n $r$ de un conjunto de $n$ objetos es cualquier subconjunto de $r$ elementos.\n",
      "\n",
      "$(^n_r) = \\frac{n!}{r!(n-r)!} \\text{si } 0 \\leq r \\leq n$"
     ]
    },
    {
     "cell_type": "code",
     "collapsed": false,
     "input": [
      "combinaciones = list(it.combinations(conjunto, r=2))\n",
      "\n",
      "print('Total de combiaciones: %s\\n' % len(combinaciones))\n",
      "imprimir(combinaciones)"
     ],
     "language": "python",
     "metadata": {},
     "outputs": [
      {
       "output_type": "stream",
       "stream": "stdout",
       "text": [
        "Total de combiaciones: 3\n",
        "\n",
        "(1, 2)\n",
        "(1, 3)\n",
        "(2, 3)\n"
       ]
      }
     ],
     "prompt_number": 6
    },
    {
     "cell_type": "markdown",
     "metadata": {},
     "source": [
      "Encuetre el numero $m$ de combinaciones de 3 comites que pueden formarse con 8 personas:\n",
      "\n",
      "$m = C(n, r) = C(8, 3) = (nCr) = (^8_3) = \\frac{8\u00b77\u00b76}{3\u00b72\u00b71}=\\frac{336}{6}=56$"
     ]
    },
    {
     "cell_type": "code",
     "collapsed": false,
     "input": [
      "def nCr(n, r):\n",
      "    if 0 <= r <= n:\n",
      "        return f(n) / (f(n-r)*f(r))\n",
      "    else:\n",
      "        return 0\n",
      "    \n",
      "    \n",
      "nCr(8, 3)"
     ],
     "language": "python",
     "metadata": {},
     "outputs": [
      {
       "metadata": {},
       "output_type": "pyout",
       "prompt_number": 7,
       "text": [
        "56.0"
       ]
      }
     ],
     "prompt_number": 7
    },
    {
     "cell_type": "markdown",
     "metadata": {},
     "source": [
      "#### Ejemplo:\n",
      "\n",
      "* Las combinaciones de las letras **A**, **B**, **C** y **D** tomadas en grupos de a 3 son:"
     ]
    },
    {
     "cell_type": "code",
     "collapsed": false,
     "input": [
      "conjunto = ['A', 'B', 'C', 'D']\n",
      "permutaciones = list(it.permutations(conjunto, r))\n",
      "combinaciones = list(it.combinations(conjunto, r))\n",
      "\n",
      "imprimir(permutaciones)"
     ],
     "language": "python",
     "metadata": {},
     "outputs": [
      {
       "output_type": "stream",
       "stream": "stdout",
       "text": [
        "('A', 'B', 'C')\n",
        "('A', 'B', 'D')\n",
        "('A', 'C', 'B')\n",
        "('A', 'C', 'D')\n",
        "('A', 'D', 'B')\n",
        "('A', 'D', 'C')\n",
        "('B', 'A', 'C')\n",
        "('B', 'A', 'D')\n",
        "('B', 'C', 'A')\n",
        "('B', 'C', 'D')\n",
        "('B', 'D', 'A')\n",
        "('B', 'D', 'C')\n",
        "('C', 'A', 'B')\n",
        "('C', 'A', 'D')\n",
        "('C', 'B', 'A')\n",
        "('C', 'B', 'D')\n",
        "('C', 'D', 'A')\n",
        "('C', 'D', 'B')\n",
        "('D', 'A', 'B')\n",
        "('D', 'A', 'C')\n",
        "('D', 'B', 'A')\n",
        "('D', 'B', 'C')\n",
        "('D', 'C', 'A')\n",
        "('D', 'C', 'B')\n"
       ]
      }
     ],
     "prompt_number": 8
    },
    {
     "cell_type": "code",
     "collapsed": false,
     "input": [
      "imprimir(combinaciones)"
     ],
     "language": "python",
     "metadata": {},
     "outputs": [
      {
       "output_type": "stream",
       "stream": "stdout",
       "text": [
        "('A', 'B', 'C')\n",
        "('A', 'B', 'D')\n",
        "('A', 'C', 'D')\n",
        "('B', 'C', 'D')\n"
       ]
      }
     ],
     "prompt_number": 9
    },
    {
     "cell_type": "code",
     "collapsed": false,
     "input": [
      "print('Total de permutaciones: {0}\\n'\n",
      "      'Total de combinaciones: {1}'.format(len(permutaciones),\n",
      "                                           len(combinaciones)))"
     ],
     "language": "python",
     "metadata": {},
     "outputs": [
      {
       "output_type": "stream",
       "stream": "stdout",
       "text": [
        "Total de permutaciones: 24\n",
        "Total de combinaciones: 4\n"
       ]
      }
     ],
     "prompt_number": 10
    },
    {
     "cell_type": "markdown",
     "metadata": {},
     "source": [
      "#### Ejercicio:\n",
      "\n",
      "Un agricultor compra 3 vacas, 2 cerdos, y 4 galllinas a una persone que tiene 6 vacas, 5 cerdos y 
      8 gallinas\n",
      "\n",
      "\u00bfCuantas opciones tiene a escojer el agricultor?\n",
      "\n",
      "$(^6_3)(^5_2)(^8_4) = (20)(10)(70) = 14,000$"
     ]
    },
    {
     "cell_type": "code",
     "collapsed": false,
     "input": [
      "vacas = nCr(6, 3)\n",
      "cerdos = nCr(5, 2)\n",
      "gallinas = nCr(8, 4)\n",
      "total = vacas * cerdos * gallinas\n",
      "\n",
      "print('   vacas = {0}\\n'\n",
      "      '  cerdos = {1}\\n'\n",
      "      'gallinas = {2}\\n\\n'      \n",
      "      '   total = {3}'.format(vacas,\n",
      "                              cerdos,\n",
      "                              gallinas,\n",
      "                              total))"
     ],
     "language": "python",
     "metadata": {},
     "outputs": [
      {
       "output_type": "stream",
       "stream": "stdout",
       "text": [
        "   vacas = 20.0\n",
        "  cerdos = 10.0\n",
        "gallinas = 70.0\n",
        "\n",
        "   total = 14000.0\n"
       ]
      }
     ],
     "prompt_number": 11
    },
    {
     "cell_type": "markdown",
     "metadata": {},
     "source": [
      "# Producto Cartesiano de Conjuntos\n",
      "\n",
      "En matem\u00e1ticas, el producto cartesiano de dos o mas conjuntos es una operaci\u00f3n que resulta en otro conjunto cuyos elementos son todos los pares ordenados que pueden formarse tomando el primer elemento del par del primer conjunto, y el segundo elemento del segundo conjunto y asi consecutivamente.\n",
      "\n",
      "Dados los conjuntos:\n",
      "\n",
      "$A = \\{1, 2, 3 \\}$ \n",
      "\n",
      "$B = \\{a, b\\}$\n",
      "\n",
      "encuentre los pares ordenados de:\n",
      "\n",
      "$A \\times B$ \n",
      "\n",
      "$B \\times A$ \n",
      "\n",
      "$B \\times B$\n",
      "\n",
      "* Comprende todos los pares ordenados $(x, y)$ donde $x \\in A$ y $y\\in B$ $\\therefore$\n",
      "\n",
      "$A\\times B = \\{ (1, a), (1, b), (2, a), (2, b), (3, a), (3, b) \\}$\n",
      "\n",
      "$B\\times A = \\{ (a, 1), (a, 2), (a, 3), (b, 1), (b, 2), (b, 3) \\}$\n",
      "\n",
      "$B \\times B = \\{ (a, a), (a, b), (b, a), (b, b)\\}$\n"
     ]
    },
    {
     "cell_type": "code",
     "collapsed": false,
     "input": [
      "A = [1, 2, 3]\n",
      "B = ['a', 'b']\n",
      "C = [4, 6, 8]\n",
      "AxB = list(it.product(A, B))\n",
      "BxA = list(it.product(B, A))\n",
      "BxB = list(it.product(B, repeat=2))\n",
      "AxBxC = list(it.product(A, B, C))\n",
      "\n",
      "print('A x B = {0}\\n'\n",
      "      'B x A = {1}\\n'\n",
      "      'B x B = {2}\\n\\n'\n",
      "      'A x B x C ='.format(AxB,\n",
      "                           BxA,\n",
      "                           BxB))\n",
      "imprimir(AxBxC)"
     ],
     "language": "python",
     "metadata": {},
     "outputs": [
      {
       "output_type": "stream",
       "stream": "stdout",
       "text": [
        "A x B = [(1, 'a'), (1, 'b'), (2, 'a'), (2, 'b'), (3, 'a'), (3, 'b')]\n",
        "B x A = [('a', 1), ('a', 2), ('a', 3), ('b', 1), ('b', 2), ('b', 3)]\n",
        "B x B = [('a', 'a'), ('a', 'b'), ('b', 'a'), ('b', 'b')]\n",
        "\n",
        "A x B x C =\n",
        "(1, 'a', 4)\n",
        "(1, 'a', 6)\n",
        "(1, 'a', 8)\n",
        "(1, 'b', 4)\n",
        "(1, 'b', 6)\n",
        "(1, 'b', 8)\n",
        "(2, 'a', 4)\n",
        "(2, 'a', 6)\n",
        "(2, 'a', 8)\n",
        "(2, 'b', 4)\n",
        "(2, 'b', 6)\n",
        "(2, 'b', 8)\n",
        "(3, 'a', 4)\n",
        "(3, 'a', 6)\n",
        "(3, 'a', 8)\n",
        "(3, 'b', 4)\n",
        "(3, 'b', 6)\n",
        "(3, 'b', 8)\n"
       ]
      }
     ],
     "prompt_number": 12
    },
    {
     "cell_type": "markdown",
     "metadata": {},
     "source": [
      "# Diagrama de arbol\n",
      "\n",
      "Un diarama de arbol es una representaci\u00f3n gr\u00e1fica de un experimetno o evento, que consta de $r$ pasos, donde cada uno de los pasos tiene un n\u00famero finito de ser llevadas acabo.\n",
      "\n",
      "\n",
      "#### Ejercicio:\n",
      "\n",
      "Cada lanzamiento de moneda resulta bien sea cara $(H)$ o sello $(T)$ sea $(C) = (H, T)$ el conjunto de resultados. Encuentre $C^3$."
     ]
    },
    {
     "cell_type": "code",
     "collapsed": false,
     "input": [
      "C = ['H', 'T']\n",
      "C3 = list(it.product(C, repeat=3))\n",
      "m = len(C3)\n",
      "\n",
      "print('C = %s\\n\\n'\n",
      "      'C\u00b3 =' % C)\n",
      "imprimir(C3)\n",
      "print('\\nm = %s' % m)"
     ],
     "language": "python",
     "metadata": {},
     "outputs": [
      {
       "output_type": "stream",
       "stream": "stdout",
       "text": [
        "C = ['H', 'T']\n",
        "\n",
        "C\u00b3 =\n",
        "('H', 'H', 'H')\n",
        "('H', 'H', 'T')\n",
        "('H', 'T', 'H')\n",
        "('H', 'T', 'T')\n",
        "('T', 'H', 'H')\n",
        "('T', 'H', 'T')\n",
        "('T', 'T', 'H')\n",
        "('T', 'T', 'T')\n",
        "\n",
        "m = 8\n"
       ]
      }
     ],
     "prompt_number": 13
    },
    {
     "cell_type": "markdown",
     "metadata": {},
     "source": [
      "Un m\u00e9dico general clasifica a sus pacientes de acuerdo a su genero (Masculino, Femenino), tipo de sangre (A, B, AB u O) y en cuanto a la presi\u00f3n sanguinea (normal, alta, baja). Mediante un diagrama de arbol diga en cuantas clasificaciones pueden estar los pacientes de este medico."
     ]
    },
    {
     "cell_type": "code",
     "collapsed": false,
     "input": [
      "genero = ['Masculino', 'Femenino']\n",
      "sangre = ['A', 'B', 'AB', 'O']\n",
      "presion = ['alta', 'baja', 'normal']\n",
      "producto_cartesiano = list(it.product(genero, sangre, presion))\n",
      "m = len(producto_cartesiano)\n",
      "\n",
      "imprimir(producto_cartesiano)\n",
      "print('\\nm = %s' % m)  "
     ],
     "language": "python",
     "metadata": {},
     "outputs": [
      {
       "output_type": "stream",
       "stream": "stdout",
       "text": [
        "('Masculino', 'A', 'alta')\n",
        "('Masculino', 'A', 'baja')\n",
        "('Masculino', 'A', 'normal')\n",
        "('Masculino', 'B', 'alta')\n",
        "('Masculino', 'B', 'baja')\n",
        "('Masculino', 'B', 'normal')\n",
        "('Masculino', 'AB', 'alta')\n",
        "('Masculino', 'AB', 'baja')\n",
        "('Masculino', 'AB', 'normal')\n",
        "('Masculino', 'O', 'alta')\n",
        "('Masculino', 'O', 'baja')\n",
        "('Masculino', 'O', 'normal')\n",
        "('Femenino', 'A', 'alta')\n",
        "('Femenino', 'A', 'baja')\n",
        "('Femenino', 'A', 'normal')\n",
        "('Femenino', 'B', 'alta')\n",
        "('Femenino', 'B', 'baja')\n",
        "('Femenino', 'B', 'normal')\n",
        "('Femenino', 'AB', 'alta')\n",
        "('Femenino', 'AB', 'baja')\n",
        "('Femenino', 'AB', 'normal')\n",
        "('Femenino', 'O', 'alta')\n",
        "('Femenino', 'O', 'baja')\n",
        "('Femenino', 'O', 'normal')\n",
        "\n",
        "m = 24\n"
       ]
      }
     ],
     "prompt_number": 14
    },
    {
     "cell_type": "markdown",
     "metadata": {},
     "source": [
      "# Teoria de conjuntos\n",
      "\n",
      "Todos los conjuntos son subconjuntos del conjunto $U$.\n",
      "\n",
      "### Union\n",
      "\n",
      "Denotado por $A\\cup B$\n",
      "\n",
      "Es el conjunto de todos los elementos que se encuentran en ambos conjuntos.\n",
      "\n",
      "### Intersecion\n",
      "\n",
      "Denotado por $A\\cap B$\n",
      "\n",
      "Es el conjunto de todos los elementos que se encuentra en ambos conjuntos, es decir los que son afines.\n",
      "\n",
      "### Complemento\n",
      "\n",
      "Denotado por $A^c$\n",
      "\n",
      "Es el conjunto de elementos que pertencen al universo $U$ pero que no pertenecen a $A$.\n",
      "\n",
      "### Diferencia\n",
      "\n",
      "Denotado por $A \\diagdown B, A - B, A ~ B$\n",
      "\n",
      "La diferencia entre $A$ y $B$, llamada tambien complemento relativo, es el conjunto de elementos que pertencen a $A$ pero no pertenecen a $B$.\n",
      "\n",
      "### Diferencia Simetrica.\n",
      "\n",
      "Denotada por $A\\bigoplus B = (A - B) \\cup (B - A)$\n",
      "\n",
      "Consiste en aquellos elementos que pertenecen a $A$ o $B$ pero no a ambos.\n",
      "\n",
      "## Ejemplos:\n",
      "\n",
      "Sea:\n",
      "\n",
      "$U = \\mathbb{N} = \\{1,2,3,... \\}$\n",
      "\n",
      "$A = \\{ 1, 2, 3, 4 \\}$\n",
      "\n",
      "$B = \\{ 3,4,5,6,7 \\}$\n",
      "\n",
      "$C = \\{ 2, 3, 8, 9 \\}$\n",
      "\n",
      "$E = \\{ 2, 4, 6, ... \\}$\n",
      "\n",
      "$A \\bigoplus B = (A-B) \\cup (B-A) = {1,2,5,6,7}$"
     ]
    },
    {
     "cell_type": "code",
     "collapsed": false,
     "input": [
      "U = set(range(1000))  # Infinity\n",
      "A = {1, 2, 3, 4}\n",
      "B = {3, 4, 5, 6, 7}\n",
      "C = {2, 3, 8, 9}\n",
      "E = set(range(2, 1000, 2))"
     ],
     "language": "python",
     "metadata": {},
     "outputs": [],
     "prompt_number": 15
    },
    {
     "cell_type": "markdown",
     "metadata": {},
     "source": [
      "* $A \\bigoplus B = \\{1, 2, 5, 6, 7\\}$ "
     ]
    },
    {
     "cell_type": "code",
     "collapsed": false,
     "input": [
      "(A-B) | (B-A)"
     ],
     "language": "python",
     "metadata": {},
     "outputs": [
      {
       "metadata": {},
       "output_type": "pyout",
       "prompt_number": 16,
       "text": [
        "{1, 2, 5, 6, 7}"
       ]
      }
     ],
     "prompt_number": 16
    },
    {
     "cell_type": "code",
     "collapsed": false,
     "input": [
      "A^B"
     ],
     "language": "python",
     "metadata": {},
     "outputs": [
      {
       "metadata": {},
       "output_type": "pyout",
       "prompt_number": 17,
       "text": [
        "{1, 2, 5, 6, 7}"
       ]
      }
     ],
     "prompt_number": 17
    },
    {
     "cell_type": "markdown",
     "metadata": {},
     "source": [
      "* $A - C= \\{1, 4\\}$"
     ]
    },
    {
     "cell_type": "code",
     "collapsed": false,
     "input": [
      "A-C"
     ],
     "language": "python",
     "metadata": {},
     "outputs": [
      {
       "metadata": {},
       "output_type": "pyout",
       "prompt_number": 18,
       "text": [
        "{1, 4}"
       ]
      }
     ],
     "prompt_number": 18
    },
    {
     "cell_type": "markdown",
     "metadata": {},
     "source": [
      "* $A \\cup B = \\{1, 2, 3, 4, 5, 6, 7\\}$"
     ]
    },
    {
     "cell_type": "code",
     "collapsed": false,
     "input": [
      "A|B"
     ],
     "language": "python",
     "metadata": {},
     "outputs": [
      {
       "metadata": {},
       "output_type": "pyout",
       "prompt_number": 19,
       "text": [
        "{1, 2, 3, 4, 5, 6, 7}"
       ]
      }
     ],
     "prompt_number": 19
    },
    {
     "cell_type": "markdown",
     "metadata": {},
     "source": [
      "* $A \\cap B = \\{3, 4\\}$"
     ]
    },
    {
     "cell_type": "code",
     "collapsed": false,
     "input": [
      "A&B"
     ],
     "language": "python",
     "metadata": {},
     "outputs": [
      {
       "metadata": {},
       "output_type": "pyout",
       "prompt_number": 20,
       "text": [
        "{3, 4}"
       ]
      }
     ],
     "prompt_number": 20
    }
   ],
   "metadata": {}
  }
 ]
}
