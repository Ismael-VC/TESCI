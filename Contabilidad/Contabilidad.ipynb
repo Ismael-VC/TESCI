{
 "metadata": {
  "name": "",
  "signature": "sha256:436388ec39758cfb174dc4e8972687b02db8034e5d63be175a42fb063bbc152d"
 },
 "nbformat": 3,
 "nbformat_minor": 0,
 "worksheets": [
  {
   "cells": [
    {
     "cell_type": "markdown",
     "metadata": {},
     "source": [
      "# Activo\n",
      "\n",
      "***\n",
      "\n",
      "* **Activo Circulante.**\n",
      "\n",
      "    * Caja\n",
      "    * Bancos\n",
      "    * Clientes\n",
      "    * Deudores diversos.\n",
      "    * Cuentas por cobrar.\n",
      "    * Inventarios (Mercanc\u00edas)\n",
      "    \n",
      "***\n",
      "\n",
      "* **Activo Fijo.**\n",
      "    \n",
      "    * Maquinaria\n",
      "    * Edificios\n",
      "    * Terreno\n",
      "    * Equipo de transporte.\n",
      "    * Equipo de reparto.\n",
      "    * Equipo de computo.\n",
      "\n",
      "***\n",
      "\n",
      "* **Activo Diferido.**\n",
      "\n",
      "    * Rentas pagadas por anticipado.\n",
      "    * Seguros pagados por anticipado.\n",
      "    * Comisiones pagadas por anticipado.\n",
      "    * Dep\u00f3sitos en garant\u00eda.\n",
      "    \n",
      "<br></br>    \n",
      "\n",
      "# Pasivo\n",
      "\n",
      "***\n",
      "\n",
      "* **A corto plazo.**\n",
      "\n",
      "    * Proveedores\n",
      "    * Acreedores\n",
      "    * Cuentas por pagar a corto plazo.\n",
      "    * Documentos a pagar a corto plazo.\n",
      "    * Prestamos bancarios a corto plazo.\n",
      "    \n",
      "***    \n",
      "\n",
      "* **A largo plazo.**\n",
      "\n",
      "    * Cuentas por pagar a largo plazo (LP). \n",
      "    * Documentos por pagar a largo plazo.\n",
      "    * Cr\u00e9ditos hipotecarios\n",
      "    * Cr\u00e9ditos re faccionarios.\n",
      "    * Cr\u00e9ditos de habilitaci\u00f3n y avio.\n",
      "    * Cr\u00e9ditos de arrendamiento puro.\n",
      "    * Cr\u00e9ditos de arrendamiento financiero.\n",
      "    * Cr\u00e9dito hipotecario industrial.\n",
      "    * Cr\u00e9dito mercantil a largo plazo.\n",
      "        \n",
      "***\n",
      "\n",
      "* **Pasivo diferido.**\n",
      "\n",
      "    * Pago anticipado a proveedores.\n",
      "    * Pago anticipado a acreedores.\n",
      "    * Pago anticipado a fideicomisos.\n",
      "    \n",
      "***\n",
      "\n",
      "## Punto de Equilibrio\n",
      "\n",
      "F\u00f3rmula aritmetica:\n",
      "\n",
      "$PE = \\frac{CF}{1 - \\frac{CV}{V}}$\n",
      "\n",
      "F\u00f3rmula contable:\n",
      "\n",
      "$V - CV = CM$\n",
      "\n",
      "$CM - CF = U$ o $P$"
     ]
    },
    {
     "cell_type": "code",
     "collapsed": false,
     "input": [
      "def punto_equilibrio(V, CF, CV):\n",
      "    CM1 = V - CV\n",
      "    UoP1 = CM1 -CF    \n",
      "    \n",
      "    V2 = CF / (1 -(CV / V))\n",
      "    \n",
      "    porcentaje = CV / V\n",
      "    \n",
      "    CV2 = V2 * porcentaje\n",
      "    CM2 = V2 - CV2\n",
      "    UoP2 = CM2 - CF\n",
      "    \n",
      "    resultado = ('Datos Reales\\t\\tPE\\n'\n",
      "                 ' {V}\\t\\t{V2}\\n'\n",
      "                 '-{CV}\\t\\t\\t{CV2}\\n'\n",
      "                 '----------\\t\\t---------\\n'\n",
      "                 ' {CM1}\\t\\t\\t{CM2}\\n'\n",
      "                 '-{CF}\\t\\t\\t{CF}\\n'\n",
      "                 '----------\\t\\t---------\\n'\n",
      "                 ' {UoP1}\\t\\t\\t{UoP2}'.format(**vars()))\n",
      "    return resultado"
     ],
     "language": "python",
     "metadata": {},
     "outputs": [],
     "prompt_number": 1
    },
    {
     "cell_type": "markdown",
     "metadata": {},
     "source": [
      "Problema\n",
      "\n",
      "1. \u00bfCuanto debe de vender una empresa para encontrar el punto de equilibrio con los siguientes datos?\n",
      "\n",
      "    * $V = \\$127,050.00$\n",
      "    \n",
      "    * $CF = \\$600,000$\n",
      "    \n",
      "    * $CV = \\$550,000$"
     ]
    },
    {
     "cell_type": "code",
     "collapsed": false,
     "input": [
      "V = 1270050\n",
      "CF = 600000\n",
      "CV = 550000\n",
      "\n",
      "print(punto_equilibrio(V, CF, CV))"
     ],
     "language": "python",
     "metadata": {},
     "outputs": [
      {
       "output_type": "stream",
       "stream": "stdout",
       "text": [
        "Datos Reales\t\tPE\n",
        " 1270050\t\t1058301.5068398027\n",
        "-550000\t\t\t458301.5068398027\n",
        "----------\t\t---------\n",
        " 720050\t\t\t600000.0\n",
        "-600000\t\t\t600000\n",
        "----------\t\t---------\n",
        " 120050\t\t\t0.0\n"
       ]
      }
     ],
     "prompt_number": 2
    },
    {
     "cell_type": "markdown",
     "metadata": {},
     "source": [
      "# Tarea\n",
      "\n",
      "Tipos de metodos de invetario weps, peps, promedios simples y ponderados."
     ]
    }
   ],
   "metadata": {}
  }
 ]
}
