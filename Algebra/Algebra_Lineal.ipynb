{
 "metadata": {
  "name": "",
  "signature": "sha256:f768e314aaf8aee8c66274c95c929d182a5234dc4ffca89a44ae565bface24fc"
 },
 "nbformat": 3,
 "nbformat_minor": 0,
 "worksheets": [
  {
   "cells": [
    {
     "cell_type": "markdown",
     "metadata": {},
     "source": [
      "# Algebra Lineal\n",
      "\n",
      "## N\u00fameros complejos.\n",
      "\n",
      "#### Acerca de numpy: [Numpy](http://es.wikipedia.org/wiki/NumPy) "
     ]
    },
    {
     "cell_type": "code",
     "collapsed": false,
     "input": [
      "%pylab inline"
     ],
     "language": "python",
     "metadata": {},
     "outputs": [
      {
       "output_type": "stream",
       "stream": "stdout",
       "text": [
        "Populating the interactive namespace from numpy and matplotlib\n"
       ]
      }
     ],
     "prompt_number": 1
    },
    {
     "cell_type": "code",
     "collapsed": false,
     "input": [
      "# Ahora utilizamos la funci\u00f3n \"np.sqrt\" (\"raiz cuadrada\", del ingles 'square root')\n",
      "# del m\u00f3dulo \"np\" utilizando la notaci\u00f3n \"modulo.funci\u00f3n\" ,\n",
      "# usando el n\u00famero complejo/imaginario -1 (en Python \"j\" denota el n\u00famero imaginario \"i\"):\n",
      "sqrt(complex(-1))"
     ],
     "language": "python",
     "metadata": {},
     "outputs": [
      {
       "metadata": {},
       "output_type": "pyout",
       "prompt_number": 2,
       "text": [
        "1j"
       ]
      }
     ],
     "prompt_number": 2
    },
    {
     "cell_type": "markdown",
     "metadata": {},
     "source": [
      "|Potencia|Desarrollo|Equivalencia|\n",
      "|--------|----------|------------|\n",
      "|$i^1$|$\\sqrt{-1}$|$i$|\n",
      "|$i^2$|$(\\sqrt{-1})(\\sqrt{-1})=(\\sqrt{-1})^2$|$-1$|\n",
      "|$i^3$|$i^2\u00b7i=(-1)(\\sqrt{-1})$|$-i$|\n",
      "|$i^4$|$i^2\u00b7i^2=(-1)(-1)$|$1$|\n",
      "|$i^5$|$i^4\u00b7i=(1)(i)$|$i$|\n",
      "|$i^6$|$i^4\u00b7i^2=(1)(-1)$|$-1$|"
     ]
    },
    {
     "cell_type": "markdown",
     "metadata": {},
     "source": [
      "Para encontrar $i$ elevado a cualquier potencia, hay que dividir la potencia entre 4, ya que $i^4=1$. El residuo va a ser la potencia a la cual se eleve $i$ y se multiplique por 1, ejemplo:\n",
      "\n",
      "$i^8$\n",
      "\n",
      "\n"
     ]
    },
    {
     "cell_type": "code",
     "collapsed": false,
     "input": [
      "# La funci\u00f3n \"divmod\" regresa una tupla con el cociente y residuo de una divisi\u00f3n:\n",
      "cociente, residuo = divmod(8, 4) # \"divmod\" nos da el cociente y el modulo (residuo) de 8/4.\n",
      "print('cociente: {0}\\n'\n",
      "      ' residuo: {1}'.format(cociente, residuo))"
     ],
     "language": "python",
     "metadata": {},
     "outputs": [
      {
       "output_type": "stream",
       "stream": "stdout",
       "text": [
        "cociente: 2\n",
        " residuo: 0\n"
       ]
      }
     ],
     "prompt_number": 3
    },
    {
     "cell_type": "markdown",
     "metadata": {},
     "source": [
      "$\\frac{8}{4} = (i^2)^4 i^0 = (1)(1)=1$ \n"
     ]
    },
    {
     "cell_type": "markdown",
     "metadata": {},
     "source": [
      "### Representaci\u00f3n binomica o cartesiana.\n",
      "\n",
      "$a+bi$\n",
      "\n",
      "Donde $a$ es la parte real y $bi$ es la parte imaginaria.\n",
      "Suponiendo que:\n",
      "\n",
      "* $2x^2-2x+5=0$\n",
      "\n",
      "Usando la formula general:\n",
      "\n",
      "$x = \\frac{-b \\pm \\sqrt{b\u00b2-4ac}}{2a}$"
     ]
    },
    {
     "cell_type": "code",
     "collapsed": false,
     "input": [
      "# Despues definimos una funci\u00f3n que compute la formula general,\n",
      "# \"fgen\" regresa una tupla con el valor de (x1, x2),\n",
      "# tenemos que usar la funcion \"np.complex\" para tener un\n",
      "# numero complejo en caso de que la raiz sea negativa:\n",
      "def fgen(a, b, c):\n",
      "    x1 = (-b + sqrt(complex(b**2 - 4*a*c))) / (2*a)\n",
      "    x2 = (-b - sqrt(complex(b**2 - 4*a*c))) / (2*a)\n",
      "    return (x1, x2)"
     ],
     "language": "python",
     "metadata": {},
     "outputs": [],
     "prompt_number": 4
    },
    {
     "cell_type": "code",
     "collapsed": false,
     "input": [
      "# Por ultimo llamamos a la funci\u00f3n \"fgen\" con los argumentos (2, -2, 5).\n",
      "# a = 2; b = -2; c = 5:\n",
      "x1, x2 = fgen(2, -2, 5)\n",
      "\n",
      "print('x1 = {0}\\n'\n",
      "      'x2 = {1}'.format(x1, x2))"
     ],
     "language": "python",
     "metadata": {},
     "outputs": [
      {
       "output_type": "stream",
       "stream": "stdout",
       "text": [
        "x1 = (0.5+1.5j)\n",
        "x2 = (0.5-1.5j)\n"
       ]
      }
     ],
     "prompt_number": 5
    },
    {
     "cell_type": "markdown",
     "metadata": {},
     "source": [
      "Es decir, el resultado es: \n",
      "\n",
      "$x_1 = \\frac{1}{2} + \\frac{3}{2}i$\n",
      "\n",
      "$x_2 = \\frac{1}{2} - \\frac{3}{2}i$"
     ]
    },
    {
     "cell_type": "markdown",
     "metadata": {},
     "source": [
      "***\n",
      "\n",
      "## Tarea:\n",
      "\n",
      "* $\\sqrt{-70}$"
     ]
    },
    {
     "cell_type": "code",
     "collapsed": false,
     "input": [
      "r = sqrt(complex(-70))\n",
      "print('Resultado: {0}'.format(r))"
     ],
     "language": "python",
     "metadata": {},
     "outputs": [
      {
       "output_type": "stream",
       "stream": "stdout",
       "text": [
        "Resultado: 8.366600265340756j\n"
       ]
      }
     ],
     "prompt_number": 6
    },
    {
     "cell_type": "markdown",
     "metadata": {},
     "source": [
      "* $i^{203}$"
     ]
    },
    {
     "cell_type": "code",
     "collapsed": false,
     "input": [
      "cociente, residuo = divmod(203, 4)\n",
      "print('cociente: {0}\\n'\n",
      "      ' residuo: {1}'.format(cociente, residuo))"
     ],
     "language": "python",
     "metadata": {},
     "outputs": [
      {
       "output_type": "stream",
       "stream": "stdout",
       "text": [
        "cociente: 50\n",
        " residuo: 3\n"
       ]
      }
     ],
     "prompt_number": 7
    },
    {
     "cell_type": "markdown",
     "metadata": {},
     "source": [
      "**Resultado:** $\\frac{203}{4} = (i^50)^4 i^0 = (1)(1)=1$ "
     ]
    },
    {
     "cell_type": "markdown",
     "metadata": {},
     "source": [
      "* $3x^2-2x+5=0$"
     ]
    },
    {
     "cell_type": "code",
     "collapsed": false,
     "input": [
      "x1, x2 = fgen(3, -2, 50)\n",
      "\n",
      "print('x1 = {0}\\n'\n",
      "      'x2 = {1}'.format(x1, x2))"
     ],
     "language": "python",
     "metadata": {},
     "outputs": [
      {
       "output_type": "stream",
       "stream": "stdout",
       "text": [
        "x1 = (0.3333333333333333+4.068851871911234j)\n",
        "x2 = (0.3333333333333333-4.068851871911234j)\n"
       ]
      }
     ],
     "prompt_number": 8
    },
    {
     "cell_type": "markdown",
     "metadata": {},
     "source": [
      "# Plano cartesiano o complejo"
     ]
    },
    {
     "cell_type": "code",
     "collapsed": false,
     "input": [
      "%pylab inline"
     ],
     "language": "python",
     "metadata": {},
     "outputs": [
      {
       "output_type": "stream",
       "stream": "stdout",
       "text": [
        "Populating the interactive namespace from numpy and matplotlib\n"
       ]
      }
     ],
     "prompt_number": 9
    },
    {
     "cell_type": "code",
     "collapsed": false,
     "input": [
      "z1 = 2+7j\n",
      "z2 = 6+8j\n",
      "z3 = -4+2j"
     ],
     "language": "python",
     "metadata": {},
     "outputs": [],
     "prompt_number": 10
    },
    {
     "cell_type": "code",
     "collapsed": false,
     "input": [
      "z1 + z2"
     ],
     "language": "python",
     "metadata": {},
     "outputs": [
      {
       "metadata": {},
       "output_type": "pyout",
       "prompt_number": 11,
       "text": [
        "(8+15j)"
       ]
      }
     ],
     "prompt_number": 11
    },
    {
     "cell_type": "code",
     "collapsed": false,
     "input": [
      "z1 + z3"
     ],
     "language": "python",
     "metadata": {},
     "outputs": [
      {
       "metadata": {},
       "output_type": "pyout",
       "prompt_number": 12,
       "text": [
        "(-2+9j)"
       ]
      }
     ],
     "prompt_number": 12
    },
    {
     "cell_type": "code",
     "collapsed": false,
     "input": [
      "z2 -z1"
     ],
     "language": "python",
     "metadata": {},
     "outputs": [
      {
       "metadata": {},
       "output_type": "pyout",
       "prompt_number": 13,
       "text": [
        "(4+1j)"
       ]
      }
     ],
     "prompt_number": 13
    },
    {
     "cell_type": "code",
     "collapsed": false,
     "input": [
      "z2 - z3"
     ],
     "language": "python",
     "metadata": {},
     "outputs": [
      {
       "metadata": {},
       "output_type": "pyout",
       "prompt_number": 14,
       "text": [
        "(10+6j)"
       ]
      }
     ],
     "prompt_number": 14
    },
    {
     "cell_type": "code",
     "collapsed": false,
     "input": [
      "z1 * z2"
     ],
     "language": "python",
     "metadata": {},
     "outputs": [
      {
       "metadata": {},
       "output_type": "pyout",
       "prompt_number": 15,
       "text": [
        "(-44+58j)"
       ]
      }
     ],
     "prompt_number": 15
    },
    {
     "cell_type": "markdown",
     "metadata": {},
     "source": [
      "$z_1 \u00b7 z_2 = (2+7i)(6+8i)$\n",
      "\n",
      "$= 12 + 42i+16i+56i^2$\n",
      "\n",
      "$=12 + 42i + 16i +56^{(-1)}$\n",
      "\n",
      "$=12 + 42i + 16i -56$\n",
      "\n",
      "$=-44+58i$"
     ]
    },
    {
     "cell_type": "code",
     "collapsed": false,
     "input": [
      "z1 = 7-3j\n",
      "z2 = -5+8j\n",
      "z3 = -4-6j\n",
      "#z3=4-6j\n",
      "z4 = 6+9j"
     ],
     "language": "python",
     "metadata": {},
     "outputs": [],
     "prompt_number": 16
    },
    {
     "cell_type": "code",
     "collapsed": false,
     "input": [
      "z1 / z2"
     ],
     "language": "python",
     "metadata": {},
     "outputs": [
      {
       "metadata": {},
       "output_type": "pyout",
       "prompt_number": 17,
       "text": [
        "(-0.6629213483146067-0.4606741573033708j)"
       ]
      }
     ],
     "prompt_number": 17
    },
    {
     "cell_type": "markdown",
     "metadata": {},
     "source": [
      "$\\frac{z_1}{z_2} \u00b7 \\frac{\\overline{z_2}}{\\overline{z_2}} = \\frac{7-3i}{-5+8i} \u00b7 \\frac{-5-8i}{-5-8i} = \\frac{(7-3i)(-5-8i)}{(-5+8i)(-5+8i)}$\n",
      "\n",
      "$ \\frac{-35+15i-56i+24i^2}{25-64i^2} = \\frac{-35+15i-56i-24}{25+64} = \\frac{-59-41i}{89} = \\frac{59}{89} - \\frac{41}{89}i$"
     ]
    },
    {
     "cell_type": "markdown",
     "metadata": {},
     "source": [
      "# TAREA"
     ]
    },
    {
     "cell_type": "code",
     "collapsed": false,
     "input": [
      "z4+z2"
     ],
     "language": "python",
     "metadata": {},
     "outputs": [
      {
       "metadata": {},
       "output_type": "pyout",
       "prompt_number": 18,
       "text": [
        "(1+17j)"
       ]
      }
     ],
     "prompt_number": 18
    },
    {
     "cell_type": "code",
     "collapsed": false,
     "input": [
      "z3-z1"
     ],
     "language": "python",
     "metadata": {},
     "outputs": [
      {
       "metadata": {},
       "output_type": "pyout",
       "prompt_number": 19,
       "text": [
        "(-11-3j)"
       ]
      }
     ],
     "prompt_number": 19
    },
    {
     "cell_type": "code",
     "collapsed": false,
     "input": [
      "z3*z2"
     ],
     "language": "python",
     "metadata": {},
     "outputs": [
      {
       "metadata": {},
       "output_type": "pyout",
       "prompt_number": 20,
       "text": [
        "(68-2j)"
       ]
      }
     ],
     "prompt_number": 20
    },
    {
     "cell_type": "code",
     "collapsed": false,
     "input": [
      "z4/z3"
     ],
     "language": "python",
     "metadata": {},
     "outputs": [
      {
       "metadata": {},
       "output_type": "pyout",
       "prompt_number": 21,
       "text": [
        "(-1.5-0j)"
       ]
      }
     ],
     "prompt_number": 21
    },
    {
     "cell_type": "markdown",
     "metadata": {},
     "source": [
      "# Graficar n\u00fameros complejos\n",
      "\n",
      "En este ejemplo graficaremos 100 numeros complejos aleatorios:"
     ]
    },
    {
     "cell_type": "code",
     "collapsed": false,
     "input": [
      "import random as r\n",
      "import numpy as np\n",
      "\n",
      "\n",
      "def complejos_aleatorios(inicio, fin, rango):\n",
      "    n_reales      = np.array([r.randint(inicio, fin) for i in range(rango)])\n",
      "    n_imaginarios = np.array([r.randint(inicio, fin) for i in range(rango)])\n",
      "    n_complejos   = n_reales + 1j*n_imaginarios\n",
      "    return n_complejos\n",
      "\n",
      "\n",
      "complejos = complejos_aleatorios(-100, 100, 100)\n",
      "\n",
      "scatter(complejos.real, complejos.imag)\n",
      "#plot([1,2,3],[2,6,5])\n",
      "title('Gr\u00e1fica de n\u00fameros complejos\\n')\n",
      "xlabel('reales')\n",
      "ylabel('imaginarios')"
     ],
     "language": "python",
     "metadata": {},
     "outputs": [
      {
       "metadata": {},
       "output_type": "pyout",
       "prompt_number": 22,
       "text": [
        "<matplotlib.text.Text at 0xb0f9160c>"
       ]
      },
      {
       "metadata": {},
       "output_type": "display_data",
       "png": "[encoded data removed]",
       "text": [
        "<matplotlib.figure.Figure at 0xb17f42ec>"
       ]
      }
     ],
     "prompt_number": 22
    },
    {
     "cell_type": "markdown",
     "metadata": {},
     "source": [
      "## Forma Trigonometrica o Polar\n",
      "\n",
      "$z = rCos\\theta + irSen\\theta$\n",
      "\n",
      "$r = \\sqrt{a^2+b^2}$\n",
      "\n",
      "$Sen\\theta = \\frac{co}{h} = \\frac{b}{r}$\n",
      "\n",
      "$Cos\\theta = \\frac{ca}{h} = \\frac{a}{r}$\n",
      "\n",
      "$Tan\\theta = \\frac{co}{ca} = \\frac{b}{a}$\n",
      "\n",
      "$a = rCos\\theta$\n",
      "\n",
      "$b = rSen\\theta$\n",
      "\n",
      "$\\theta = \\tan(\\frac{b}{a})^{-1}$"
     ]
    },
    {
     "cell_type": "code",
     "collapsed": false,
     "input": [
      "import numpy\n",
      "import math \n",
      "import cmath\n",
      "\n",
      "z = 2+3j\n",
      "a = z.real\n",
      "b = z.imag"
     ],
     "language": "python",
     "metadata": {},
     "outputs": [],
     "prompt_number": 23
    },
    {
     "cell_type": "code",
     "collapsed": false,
     "input": [
      "theta = math.degrees(math.atan(b/a))\n",
      "theta"
     ],
     "language": "python",
     "metadata": {},
     "outputs": [
      {
       "metadata": {},
       "output_type": "pyout",
       "prompt_number": 24,
       "text": [
        "56.309932474020215"
       ]
      }
     ],
     "prompt_number": 24
    },
    {
     "cell_type": "markdown",
     "metadata": {},
     "source": [
      "Expresar el siguiente n\u00famero complejo binomico en su forma polar:\n",
      "\n",
      "$Z = -3+4i$"
     ]
    },
    {
     "cell_type": "code",
     "collapsed": false,
     "input": [
      "Z1 = -3+4j"
     ],
     "language": "python",
     "metadata": {},
     "outputs": [],
     "prompt_number": 25
    },
    {
     "cell_type": "code",
     "collapsed": false,
     "input": [
      "cmath.polar(Z1)"
     ],
     "language": "python",
     "metadata": {},
     "outputs": [
      {
       "metadata": {},
       "output_type": "pyout",
       "prompt_number": 26,
       "text": [
        "(5.0, 2.214297435588181)"
       ]
      }
     ],
     "prompt_number": 26
    },
    {
     "cell_type": "code",
     "collapsed": false,
     "input": [
      "help(cmath.polar)"
     ],
     "language": "python",
     "metadata": {},
     "outputs": [
      {
       "output_type": "stream",
       "stream": "stdout",
       "text": [
        "Help on built-in function polar in module cmath:\n",
        "\n",
        "polar(...)\n",
        "    polar(z) -> r: float, phi: float\n",
        "    \n",
        "    Convert a complex from rectangular coordinates to polar coordinates. r is\n",
        "    the distance from 0 and phi the phase angle.\n",
        "\n"
       ]
      }
     ],
     "prompt_number": 27
    },
    {
     "cell_type": "code",
     "collapsed": false,
     "input": [
      "numpy.conjugate(Z1)"
     ],
     "language": "python",
     "metadata": {},
     "outputs": [
      {
       "metadata": {},
       "output_type": "pyout",
       "prompt_number": 28,
       "text": [
        "(-3-4j)"
       ]
      }
     ],
     "prompt_number": 28
    },
    {
     "cell_type": "code",
     "collapsed": false,
     "input": [
      "Z1 = 3-2j\n",
      "Z2 = -5-6j\n",
      "Z3 = -4+2j\n",
      "\n",
      "Z4 = ((Z1 - numpy.conjugate(Z2)) / Z2) * ((2  *Z1) / Z3)\n",
      "Z4"
     ],
     "language": "python",
     "metadata": {},
     "outputs": [
      {
       "metadata": {},
       "output_type": "pyout",
       "prompt_number": 29,
       "text": [
        "(-0.49836065573770494-2.2819672131147541j)"
       ]
      }
     ],
     "prompt_number": 29
    },
    {
     "cell_type": "code",
     "collapsed": false,
     "input": [
      "from fractions import Fraction\n",
      "from numpy import conjugate as c"
     ],
     "language": "python",
     "metadata": {},
     "outputs": [],
     "prompt_number": 30
    },
    {
     "cell_type": "code",
     "collapsed": false,
     "input": [
      "limit = 1000\n",
      "real = Fraction.from_float(Z4.real).limit_denominator(limit)\n",
      "imag = Fraction.from_float(Z4.imag).limit_denominator(limit)\n",
      "real, imag"
     ],
     "language": "python",
     "metadata": {},
     "outputs": [
      {
       "metadata": {},
       "output_type": "pyout",
       "prompt_number": 31,
       "text": [
        "(Fraction(-152, 305), Fraction(-696, 305))"
       ]
      }
     ],
     "prompt_number": 31
    },
    {
     "cell_type": "code",
     "collapsed": false,
     "input": [
      "print(' {0}     {1}\\n'\n",
      "      '------------ + -----\\n'\n",
      "      ' {2}     {3}\\n'.format(real.numerator, imag.numerator,\n",
      "                              real.denominator, imag.denominator))"
     ],
     "language": "python",
     "metadata": {},
     "outputs": [
      {
       "output_type": "stream",
       "stream": "stdout",
       "text": [
        " -152     -696\n",
        "------------ + -----\n",
        " 305     305\n",
        "\n"
       ]
      }
     ],
     "prompt_number": 32
    },
    {
     "cell_type": "code",
     "collapsed": false,
     "input": [
      "#!/usr/bin/env python3\n",
      "\n",
      "\n",
      "__author__ = 'Ismael Venegas Castell\u00f3' + '\\t' + 'ismael.vc1337@gmail.com'\n",
      "__date__ = '04 / Abril / 2014'\n",
      "\n",
      "\n",
      "from fractions import Fraction  as F\n",
      "from textwrap  import dedent as dd\n",
      "\n",
      "\n",
      "def calc(expresi\u00f3n:'cualquier n\u00famero'=0, precisi\u00f3n:'int'=1000):\n",
      "    '''\n",
      "    Calculadora de expresiones con n\u00fameros complejos.\n",
      "\n",
      "    expresi\u00f3n: expresi\u00f3n n\u00famerica v\u00e1lida.\n",
      "    precisi\u00f3n: precisi\u00f3n de la simplificaci\u00f3n.\n",
      "\n",
      "    Uso:\n",
      "    \n",
      "    >>> from calc_comp import calc\n",
      "    >>> from numpy import conjugate as c\n",
      "    \n",
      "    >>> z1 =  3-2j\n",
      "    >>> z2 = -5-6j\n",
      "    >>> z3 = -4+2j\n",
      "    \n",
      "    >>> exp = ((z1 - c(z2)) / z2) * ((2*z1) / z3)\n",
      "    >>> calc(exp)\n",
      "    (-0.49836065573770494-2.281967213114754j) =\n",
      "         -152             -696\n",
      "    ------------- + ------------- i\n",
      "         305             305\n",
      "    '''\n",
      "    z = expresi\u00f3n\n",
      "    frac_real = F.from_float(z.real).limit_denominator(precisi\u00f3n)\n",
      "    frac_imag = F.from_float(z.imag).limit_denominator(precisi\u00f3n)\n",
      "    print(dd('''\\\n",
      "             {0} =\n",
      "                  {1}             {2}\n",
      "             ------------- + ------------- i\n",
      "                  {3}             {4}'''.format(expresi\u00f3n,\n",
      "                                                frac_real.numerator,\n",
      "                                                frac_imag.numerator,\n",
      "                                                frac_real.denominator,\n",
      "                                                frac_imag.denominator)))"
     ],
     "language": "python",
     "metadata": {},
     "outputs": [],
     "prompt_number": 33
    },
    {
     "cell_type": "code",
     "collapsed": false,
     "input": [
      "exp = ((Z1 - c(Z2)) / Z2) * ((2 * Z1) / Z3)\n",
      "calc(exp)"
     ],
     "language": "python",
     "metadata": {},
     "outputs": [
      {
       "output_type": "stream",
       "stream": "stdout",
       "text": [
        "(-0.49836065573770494-2.281967213114754j) =\n",
        "     -152             -696\n",
        "------------- + ------------- i\n",
        "     305             305\n"
       ]
      }
     ],
     "prompt_number": 34
    },
    {
     "cell_type": "code",
     "collapsed": false,
     "input": [
      "exp = (Z1 / c(Z1)) * ((Z2 - Z3) / c(Z3))\n",
      "calc(exp)"
     ],
     "language": "python",
     "metadata": {},
     "outputs": [
      {
       "output_type": "stream",
       "stream": "stdout",
       "text": [
        "(1.7692307692307694-0.34615384615384615j) =\n",
        "     23             -9\n",
        "------------- + ------------- i\n",
        "     13             26\n"
       ]
      }
     ],
     "prompt_number": 35
    },
    {
     "cell_type": "code",
     "collapsed": false,
     "input": [
      "exp = ((Z3 + Z2) / Z1) * ((Z1 - Z3) / c(Z2))\n",
      "calc(exp)"
     ],
     "language": "python",
     "metadata": {},
     "outputs": [
      {
       "output_type": "stream",
       "stream": "stdout",
       "text": [
        "(0.5813366960907944+2.7591424968474145j) =\n",
        "     461             2188\n",
        "------------- + ------------- i\n",
        "     793             793\n"
       ]
      }
     ],
     "prompt_number": 36
    },
    {
     "cell_type": "code",
     "collapsed": false,
     "input": [
      "exp = ((Z3 + Z2) / Z1) * ((Z1 - Z3) / c(Z2))\n",
      "calc(exp)"
     ],
     "language": "python",
     "metadata": {},
     "outputs": [
      {
       "output_type": "stream",
       "stream": "stdout",
       "text": [
        "(0.5813366960907944+2.7591424968474145j) =\n",
        "     461             2188\n",
        "------------- + ------------- i\n",
        "     793             793\n"
       ]
      }
     ],
     "prompt_number": 37
    },
    {
     "cell_type": "code",
     "collapsed": false,
     "input": [
      "help(calc)"
     ],
     "language": "python",
     "metadata": {},
     "outputs": [
      {
       "output_type": "stream",
       "stream": "stdout",
       "text": [
        "Help on function calc in module __main__:\n",
        "\n",
        "calc(expresi\u00f3n:'cualquier n\u00famero'=0, precisi\u00f3n:'int'=1000)\n",
        "    Calculadora de expresiones con n\u00fameros complejos.\n",
        "    \n",
        "    expresi\u00f3n: expresi\u00f3n n\u00famerica v\u00e1lida.\n",
        "    precisi\u00f3n: precisi\u00f3n de la simplificaci\u00f3n.\n",
        "    \n",
        "    Uso:\n",
        "    \n",
        "    >>> from calc_comp import calc\n",
        "    >>> from numpy import conjugate as c\n",
        "    \n",
        "    >>> z1 =  3-2j\n",
        "    >>> z2 = -5-6j\n",
        "    >>> z3 = -4+2j\n",
        "    \n",
        "    >>> exp = ((z1 - c(z2)) / z2) * ((2*z1) / z3)\n",
        "    >>> calc(exp)\n",
        "    (-0.49836065573770494-2.281967213114754j) =\n",
        "         -152             -696\n",
        "    ------------- + ------------- i\n",
        "         305             305\n",
        "\n"
       ]
      }
     ],
     "prompt_number": 38
    },
    {
     "cell_type": "code",
     "collapsed": false,
     "input": [
      "calc(0)"
     ],
     "language": "python",
     "metadata": {},
     "outputs": [
      {
       "output_type": "stream",
       "stream": "stdout",
       "text": [
        "0 =\n",
        "     0             0\n",
        "------------- + ------------- i\n",
        "     1             1\n"
       ]
      }
     ],
     "prompt_number": 39
    },
    {
     "cell_type": "code",
     "collapsed": false,
     "input": [
      "calc(1)"
     ],
     "language": "python",
     "metadata": {},
     "outputs": [
      {
       "output_type": "stream",
       "stream": "stdout",
       "text": [
        "1 =\n",
        "     1             0\n",
        "------------- + ------------- i\n",
        "     1             1\n"
       ]
      }
     ],
     "prompt_number": 40
    },
    {
     "cell_type": "code",
     "collapsed": false,
     "input": [
      "calc(-145-231j)"
     ],
     "language": "python",
     "metadata": {},
     "outputs": [
      {
       "output_type": "stream",
       "stream": "stdout",
       "text": [
        "(-145-231j) =\n",
        "     -145             -231\n",
        "------------- + ------------- i\n",
        "     1             1\n"
       ]
      }
     ],
     "prompt_number": 41
    },
    {
     "cell_type": "code",
     "collapsed": false,
     "input": [
      "calc(numpy.complex128(7-33j))"
     ],
     "language": "python",
     "metadata": {},
     "outputs": [
      {
       "output_type": "stream",
       "stream": "stdout",
       "text": [
        "(7-33j) =\n",
        "     7             -33\n",
        "------------- + ------------- i\n",
        "     1             1\n"
       ]
      }
     ],
     "prompt_number": 42
    }
   ],
   "metadata": {}
  }
 ]
}